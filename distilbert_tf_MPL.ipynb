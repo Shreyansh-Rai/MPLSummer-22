{
  "cells": [
    {
      "cell_type": "markdown",
      "metadata": {
        "id": "view-in-github",
        "colab_type": "text"
      },
      "source": [
        "<a href=\"https://colab.research.google.com/github/Shreyansh-Rai/MPLSummer-22/blob/main/distilbert_tf_MPL.ipynb\" target=\"_parent\"><img src=\"https://colab.research.google.com/assets/colab-badge.svg\" alt=\"Open In Colab\"/></a>"
      ]
    },
    {
      "cell_type": "markdown",
      "metadata": {
        "id": "htO7JShhI4sa"
      },
      "source": [
        "## Classifying text with DistilBERT and Tensorflow"
      ]
    },
    {
      "cell_type": "code",
      "execution_count": 7,
      "metadata": {
        "id": "hsdBQBpDAX5X"
      },
      "outputs": [],
      "source": [
        "%%capture\n",
        "!python3 -m venv venv\n",
        "!source venv/bin/activate\n",
        "!pip install tensorflow transformers"
      ]
    },
    {
      "cell_type": "code",
      "execution_count": 8,
      "metadata": {
        "id": "wew63ncSAmvw"
      },
      "outputs": [],
      "source": [
        "import tensorflow as tf\n",
        "from tensorflow.keras import activations, optimizers, losses\n",
        "from transformers import DistilBertTokenizer, TFDistilBertForSequenceClassification\n",
        "import pickle"
      ]
    },
    {
      "cell_type": "code",
      "execution_count": 10,
      "metadata": {
        "id": "ItIYoHxEB00B",
        "colab": {
          "base_uri": "https://localhost:8080/"
        },
        "outputId": "5ec3f1fb-cd24-4c22-c154-7b6900fdf7e5"
      },
      "outputs": [
        {
          "output_type": "stream",
          "name": "stderr",
          "text": [
            "[nltk_data] Downloading package stopwords to /root/nltk_data...\n",
            "[nltk_data]   Package stopwords is already up-to-date!\n",
            "[nltk_data] Downloading package averaged_perceptron_tagger to\n",
            "[nltk_data]     /root/nltk_data...\n",
            "[nltk_data]   Package averaged_perceptron_tagger is already up-to-\n",
            "[nltk_data]       date!\n",
            "[nltk_data] Downloading package wordnet to /root/nltk_data...\n",
            "[nltk_data]   Package wordnet is already up-to-date!\n",
            "[nltk_data] Downloading package omw-1.4 to /root/nltk_data...\n",
            "[nltk_data]   Package omw-1.4 is already up-to-date!\n"
          ]
        },
        {
          "output_type": "execute_result",
          "data": {
            "text/plain": [
              "True"
            ]
          },
          "metadata": {},
          "execution_count": 10
        }
      ],
      "source": [
        "import nltk\n",
        "nltk.download('stopwords')\n",
        "nltk.download('averaged_perceptron_tagger')\n",
        "nltk.download('wordnet')\n",
        "nltk.download('omw-1.4')"
      ]
    },
    {
      "cell_type": "code",
      "source": [
        "import pandas as pd\n",
        "import tensorflow as tf\n",
        "from tensorflow import keras\n",
        "from tensorflow.keras import layers\n",
        "from keras.preprocessing.text import Tokenizer\n",
        "from keras_preprocessing.sequence import pad_sequences\n",
        "from tensorflow.keras.utils import to_categorical\n",
        "from nltk.stem import WordNetLemmatizer\n",
        "from nltk.tokenize import TweetTokenizer\n",
        "from nltk.corpus import stopwords\n",
        "from nltk.tag import pos_tag\n",
        "from sklearn.model_selection import train_test_split\n",
        "from keras.models import Sequential\n",
        "from keras import layers\n",
        "# uploaded = files.upload()\n",
        "# Read in data io.BytesIO(uploaded['400sentences.csv'])\n",
        "data=pd.read_csv('400sentences.csv',sep=\";\")\n",
        "\n",
        "# Create all the features to the data set\n",
        "def data_cleaning(text_list):\n",
        "    stopwords_rem=False\n",
        "    stopwords_en=stopwords.words('english')\n",
        "    lemmatizer=WordNetLemmatizer()\n",
        "    tokenizer=TweetTokenizer()\n",
        "    reconstructed_list=[]\n",
        "    for each_text in text_list:\n",
        "        lemmatized_tokens=[]\n",
        "        tokens=tokenizer.tokenize(each_text.lower())\n",
        "        pos_tags=pos_tag(tokens)\n",
        "        for each_token, tag in pos_tags:\n",
        "            if tag.startswith('NN'):\n",
        "                pos='n'\n",
        "            elif tag.startswith('VB'):\n",
        "                pos='v'\n",
        "            else:\n",
        "                pos='a'\n",
        "            lemmatized_token=lemmatizer.lemmatize(each_token, pos)\n",
        "            if stopwords_rem: # False\n",
        "                if lemmatized_token not in stopwords_en:\n",
        "                    lemmatized_tokens.append(lemmatized_token)\n",
        "            else:\n",
        "                lemmatized_tokens.append(lemmatized_token)\n",
        "        reconstructed_list.append(' '.join(lemmatized_tokens))\n",
        "    return reconstructed_list\n",
        "\n",
        "\n",
        "# Break data down into a training set and a testing set\n",
        "x = data['ans'].tolist()\n",
        "y = data['issp'].tolist()\n"
      ],
      "metadata": {
        "id": "CL_r5iutLYAV",
        "colab": {
          "base_uri": "https://localhost:8080/"
        },
        "outputId": "2947f219-9f8f-4d79-c89c-bba05072f801"
      },
      "execution_count": 18,
      "outputs": [
        {
          "output_type": "stream",
          "name": "stdout",
          "text": [
            "['extremely, given that i got admission in this college in the nick of time', 'i had no hopes on joining this college and had planned on taking a drop', 'everything was set, we talked with the coaching institute and got my books packed up', \"i was gloomy, i couldn't talk with my pals and everything was going wrong\", \"that's when i got a mail from my dad about this\", \"so, if i weren't lucky, id not be sitting here and typing this sentence\", 'i can do the work assigned to me on time', 'i work hard to achieve the goals set by you', 'then you would be definitely happy with my work', 'you can believe me because i was the team lead in our batch in college', 'i managed to deal with every member of the group and make them work in a gentle manner', 'i do something different only if i know what is important after ten years', 'i might have enjoyed a lot and started reading some novels and i will be concentrating on only the subjects i loved most leaving everything else behind', 'if possible i will be practicing to play tennis in olympics', 'i have a good career and happy with where my current position', 'confidence is when somebody knows his or her shortcomings and he or she is willing to accept any outcome which may not match with his or her expectations', 'a confident person is very well aware of the non trivialities in any matter and can smoothly act on them', 'confidence in doing any job is obtained when after practicing a lot he is sure of the outcome because the neural pathways are consolidated', 'for example a student is confident in taking an exam when he has practiced and studied intensely for an exam and he is sure he will be able to tackle any type of problem', 'overconfidence is pseudo-confidence', 'that is pretending to have an upper hand in something inspite of lacking substantial knowledge about that particular thing', 'an overconfident person is ready to disregard any non-triviality in any matter solely based on his false pretences that he can tackle any matter no matter how difficult it is', 'i usually make separation of life and work based on the time i give to each of them', \"when it's time to work, i dedicate entire time to work\", \"but when it's time to spend life with family, i don't think about work and its pressure\", 'i would describe my idea and explain the novelty of the idea to him', 'i would request one day and make a presentation of how to implement this idea and what the organization can achieve from it', 'i would explain him the feasibility', \"sometimes it happens that i am unable to express what i want to tell because i face demotivation from other parties but i don't lose hope and stick with my ideas and try to explain using some innovative and real examples\", 'one day, my project partners and i were discussing on a project idea', \"at that time, my idea was good and new but the problem was that i didn't have any proof that my idea will work but after some days of research, i found proof that it is possible to implement and then we all agreed on that topic\", 'for a new person, it is natural to have some difficulties in communicating but after some efforts they will surely be confident to explain it in a better way', 'i am not interested in further studies', 'i like doing projects and therefore i like to do a job', 'i have done masters so i know how to tackle problems', 'i would like to work in the industry rather than going for further studies', 'when i was working with cognizant, there were times when there was an increase in the work load because of unanticipated events', 'this happened more than once when i was working', 'in such situations, i at a few times, took up additional work, for example, of modifying a piece of software which was used to automate the testing process by the whole team', 'i also took initiatives to work on harder and more complex modules and that i think helped our team to meet the deadlines and goals at such tough times', 'i consider myself lucky just because i have a life where i have the opportunity to learn and think', 'i am able to put my ideas in front of anyone', 'god blessed me with a beautiful family', 'my parents are my strength', 'i am self-motivated person', 'i see myself as an in-charge of project managing the project, and delivering the expected output', 'apart from work, i see myself as a more mature and calmer person five years from now promote creativity and team spirit provide challenging tasks and appreciate their work', 'i want to be a good programmer and also i want to be the best fifa player', 'i have been a firm believer of sound classroom training before you undertake a project', 'in my first job as a commissioning engineer, i was shipped off to site in my third month', 'i felt my manager just doesnt want to invest in my training and thus complained to my hr', 'but little did i know that my manager had planned a detailed session for me once i returned', 'he felt that unless i have an appreciation of the product and the system, i will only be confined to academic knowledge, which is true', 'the training was extremely useful and i could relate far better with my domain thereafter', 'i was totally new in data science field', \"i like this area but i don't have that much idea about it\", 'but i have to select specialisation within one day', \"i don't have sufficient time to think over that\", 'i was completely new in this field', \"i am so confused and i don't have any idea about anything\", 'i communicated with seniors and faculty members to know what was actually going in each subject', 'after basic idea of each course, i started surfing about details of each topics on google', 'after getting clear idea about everything i selected my liking specialisation', 'my family has mostly inspired me especially my father and my aunt', 'but i am never tired of it and never complain about it', 'i am very dedicated to my work and i am punctual', 'for me work comes first', 'inspite of having financial problems and not very good education, i struggled to make a good platform for myself and now i work in one of the most prestigious company', 'if i were asked by my manager to work overtime i would complete my work even before the stipulated so i can leave early', 'it is better getting work done faster than asking manager to reduce it', 'i am not a kind of person who just lives and dies, but i am the kind of a person who wants to live a great and exemplary life', 'i want to be the part of good change that is required in the society and the world that remains in history', 'if i can finish the overtime work within my working hours then its better for me', 'i will ask him if i can work some extra hours in some urgent situation only', 'time is always precious', 'i try to get through my work as soon as possible', 'i think that i balance my work and life properly', 'sometimes there is heavy workload which does not allow me to spend time with my family', 'i do give time to my personal life and family', 'maintaining a good work life balance has never been an issue for me', 'this happened when i used to work with my previous employer', 'suddenly an important bug was reported by the customer on a friday evening', 'unfortunately that being a long weekend most of my team mates including my tech lead was on a holiday, out of bangalore', 'that bug being very important and had a potential of customer dis-trusting our company, i was bound to fix it', 'i came to office on saturdays and sundays and fixed it after working around ten hours on each day', 'after my post graduation, i would like to work for some software company so i will not go for any higher studies', 'i have once worked with a mentor who was really unprofessional', 'it was as a part of my summer internship', 'he was abusive to say the least', 'the words he would speak cannot be spoken out loud', 'i had a very bad time in that company', 'i ultimately quit the company even though they were paying me very high amount of money, because i have always believed in self respect coming first and money later', 'i am happy i chose to quit that company', 'i did not want to complain to hr because i felt that it only might be happening with me', 'i looked at it positively', 'his words motivated me and i got another nice internship opportunity which i thoroughly enjoyed', 'in my childhood i was part of two accidents, that was the biggest challenge of my life', 'there are many inspirations across the various walks of life, but if i were to choose one single person, it would be my father', 'i have singlehandedly supported my family ever since i was a teenager and i continue to do the same, without the slightest sign of discomfort', 'i have shaped him up to be the man he is', 'when i was working in a firm once i was supposed to meet the deadline on my own no other member was there so,i started learning some tools which i did not known earlier and tried to complete the work', 'it depends on situation normally around friends i would love to be liked', 'it is said that change is the only constant in life, which is funny because it takes time to adapt to change', 'i am an optimist', 'so any change that occurs, i generally see it as a good one', 'but, more often than not, the opposite happens', 'i guess, to answer the question, all i can say is that i try to keep an open, unprejudiced mind about why the change is taking place and try my best to adapt to it in ways that benefit me', 'just by explaining benefits of my way of doing the job and how he will get benefits from it', 'well, for me job satisfaction is the main thing that matters', 'i cannot imagine myself doing some work that does not interest me, just for the sake of money', \"i am not saying that money doesn't matter it does, to some extent for example, i would be, in few years from now, working for a company that works in the area of my interests, which pays a decent amount as a salary to me\", \"i am saying this because, i have worked hard to get to the stage where i am right now, and wouldn't want to go it for waste\", 'on the other hand, i also plan to open an institute to teach students music, for free', 'confidence is the first thing and then comes good knowledge because you should know what you are speaking', 'getting to know what kind of interview you are attending before hand and preparing specifically for that will automatically give you some confidence', 'i usually have a lot of stage fear', 'i am not very social, which i hear a lot of times from my friends', 'i am an introvert so i avoid going into social gatherings', 'i have been criticised for this many times', 'first thing, i will be doing a job that i like to do, which is one of my career goals', 'next is always being challenged', 'i am getting these two in this job which will give me happiness and money, which are my ultimate goals', 'if i have any problem at my workplace i will first try to understand my problem and then i will try to solve it by own if possible', 'if not i will inform  my seniors and will seek for help', 'i feel great about that', 'i appreciate his or her hard work and capabilites for having to reached a senior position at a young age', 'i will surely take good from that young person, collaborate and learn things', 'i am applying as a fresher', \"so i don't think there is anyone with the same skill set in the organization\", 'i believe i can handle pressure quite well', 'the pressure of meeting deadlines or quality standards always encourages me to strive for betterment in whatever it is that i do', 'i do not think pressure will affect my performance too much', 'i consider myself to be a results oriented person with a strong drive for action', 'i would love to be able to contribute to your organisation as i am passionate about the mission of the company', 'first benefit we would get by doing some job is experience', 'experience is the one which sets me apart from others', 'it helps us know how the industry really works and what kind of obstacles we face and how we can prepare to fight back those obstacles', 'second benefit is that the job provides us an oppurtunity to develop our skills', 'without skills we cannot achieve what we wanted to', 'by doing a job we get to interact with different kinds of people, and we can know different kind of perspectives on a topic which helps us in understanding how others think', 'i would not mind working under a person younger to me if he or she is capable enough age would not matter much if that is the case', 'with this job i would try to enhance my technical skills as that is the most important thing which i should have in this stage of my life', 'apart from learning new technologies, learning about different architectures and design patterns followed by different product of it industry, i would also like to lead a team where i can deploy my technical skills a well as managerial skills', 'i would really like to learn lot of new technologies used by the company for different projects', 'sometimes when there is no one around to motivate me i turn into self motivator', 'i judged her in a wrong way', 'i would like to neither agree nor disagree with the fact that i am an absolute risk taker', 'i prefer calculative risks over instantaneous mindless experiments as these usually turn out to be successful and even if the dont they provide a chance to atleast traceback and determine where i went wrong', 'so that i dont repeat the same mistake again in the future', 'but when it comes to situations in which my the failure of my risks are likely to have an adverse effect on the others, i usually refrain myself from taking such risks and like to play it safe in order to ensure their well being', 'once i was put in a team with a guy who was famous for not doing any work throughout the project', 'i was very unhappy because i knew i will have to work alone day and night to finish the project', 'i never talked to him properly about work, but one day i was stuck at a part in the project', 'he helped me out of it', 'i think i misjudged him, but actually he knew a lot about software engineering', 'when i was deported to chennai i was in the office for forty eight hours to meet a customer requirement and finally the customer was happy with my efforts', 'short term goals, and associated rewards', 'rewards always increases the confidence in an individual and keeps them motivated while keeping the larger picture in mind', 'i am passionate about coding', 'i believe in the quote that talk is cheap, show me code', 'i also play and watch a lot of basketball and i am a huge fan of michael jordan', 'i love watching movies as well and pawan kalyan from tollywood is my favorite actor', 'i spend free time with family', 'doing something differently from whatever i am currently doing', 'may be i would think of making my career in some artistic field related to my hobbies', 'for now whatever i do regarding my artistic interest, it is a part of my hobby and not as a career point of view', 'since now more of the facilities available to implement something entirely different as a career aspect, may be that is what i would have gone for', 'i have convinced my friends who happened to be my project mates to take up an idea for our project for which they were not willing to initially i then explained them the advantages of taking it up and they finally agreed', 'i believe i am the right person for this job', 'i have all the qualifications required and some additional ones too', 'i do not shy away from responsibilities', 'i am a team player and a hard worker', 'hence, i think i can do justice to this job and help in the development of this organisation', 'absolutely for me, internal motivation works far more than external motivation ever could', 'yes, at first, it may seem like i want some sort of external motivation, but the very end, my heart goes into the work assigned only when my own self pushes me to do it', 'you should not hire me if you are looking for people who treat their job as a nine to five business and do not take their role seriously', 'the biggest challenge ever i have faced in my life is to do some work efficiently within an minimum deadline and at that moment i focused myself towards work concentrately that yield me to overcome from one of biggest challenge', 'i am a socially active human and knowledgeble data scientist', 'depends on the work', 'if i am satisfied and happy with the work, if the working environment is positive and promoting growth, i would stick on longer', 'i would be more open to the outside world and express myself to the outside world as much as i can', 'but since the last two years, i have got to know that, this is really not a problem, actually it is a pyschological problem and not believing in yourself that you can speak', 'it can be easily overcome by practicing in situations where you fear the most', 'i do not have fear of anything and i am more open now and accepted that i am having stammering so i am seeing a lot of improvement in myself', 'i would love to undertake some mentorship roles in the long run', 'we have took part in a hackathon and our team needed to work on the project for twenty four hours', 'me being the team lead had to manage the work in the limited time', 'i distributed the work according to the capabilities of the person and made sure that the work being done is perfect', 'we completed the project within the deadline and they were really satisfied with the idea and the work', 'we won the hackathon and won the first prize, which made me and my team the best among all the teams that participated from bangalore', 'in the organization most of the employees think that they have got their job and will not have any problem in future', 'from here on they begin lacking one thing, passion to learn', 'from what i experienced, the employees do npt know about new technologies, ideas and new tools with which they should be working on', 'whereas the outsider who has been living with this fast growing technology will be knowing these cutting edge technologies much more than the employees', 'so, at the end the company will get benefit', 'i am more open than reserved', 'in addition, i would pursue my hobbies apart from my research interest', 'i want to be more respected', 'if i am respected, i will automatically get liked by those people as only those people will respect you, who know you better, who like you', 'i brushed up my basics, did online surfing, interacted with people for having a fruitful exchange of knowledge', 'i know what exactly the company is looking for and i find those qualities resembling to my till date experience', 'i am a hard working person and i like to learn and lot for my personal growth', 'i would prepare myself for the potential questions', 'i would try and avoid a lengthy power point stuff and prepare a very short presentation with diagrams and very less text', 'may be present some case study where in the idea would have provided a much better solution than the one currently available', 'a lot of people have inspired me but mainly i would like to say that my father is my inspiration', 'i have grown up watching him and i aspire to be like him in future', 'during my summer internship, there were a lot of things to be installed', 'after the intstallation i had to learn a lot of things', 'my laptop used to get stuck frequently', 'there was nothing i could do with my laptop, but to see it getting stuck', 'i tried a lot of things, tried google-ing for help, took help from my seniors, but everything went in vain', 'i had almost lost hope on finishing my project, because two weeks had already got over', 'that is the time when i tried getting back into form, not worrying about anything else', 'there are quite few things regarding me that most people criticize about', 'they are listed below', 'i have a lot of patience', 'i have less ego', 'acting silly in few situations', 'not thinking twice before doing few things', 'inability to stick to a particular schedule', 'getting too excited for small things', 'once we had to organize an event in our college', 'it was again a team work', 'we sat for a week together and planned to organize that event', 'but due to lack of coordination the event was not successful and we felt very bad', 'the day of our event there was miss communication and chaos', 'as a team we failed', 'it was for the first time, there was such an event and it was not that successful', 'i have made mistakes', 'the mistake of which i can recall is that of taking a year gap after twelfth standard for preparation of competitive exams', 'i was not that confident enough for taking the drop and also had no motivation initially', 'even i suffered from illness in the mid too', 'i handle it in the way that i always had good faith in me, prepared hard for the exams never left hope and just went on for it', 'in the end this dedication gave a fruitful reward too', 'i have been practicing online, at forums and a regular at the hackathons', 'i have got standing positions in several of these hackathons to say that i am competitive enough at least in what i claim to be', 'this is actually the main requirement according to me', 'i would love to learn computer graphics as new skill', 'as i am very curious about it as i have never learned any graphics related course', 'i never loved taking risks i always wanted things to be straight forward but as the time has passed i have learnt to take risks and believe me i have taken a few very serious risks and one of them is dropping iit kharagpur and joining iiit bengaluru', 'i do not know how many people find this decision of dropping iit a risk but trust me once you are in iit then leaving it is really very difficult', 'i believe that whether this option should be pursued depends on the person and what they wish to achieve in their life', 'as for me, i want to know about more and more about things which i find interesting', 'i also think that i would love the interactions and intellectual stimulation that only an academic place can provide', 'i will definitely take up such an option if i get the chance', 'i would like to think that it would not given my past experiences', 'i have had a few rough phases in life and was able to give my best in spite of them', 'the instance which triggered these rough phases was the death of my mother', 'i was ten at the time and that triggered a bunch of family problems but i could make myself do my work through it all', 'in fact, i believe that doing work is the only was to get rid of the stress', 'i manage to stay calm and think clearly in such situations', 'i would say i perform well enough and that my performance does not get affected in pressure situations', 'i motivate myself to be happy and active all the time', 'i avoid being depressed or worried about anything', 'the main thing that makes me self-motivated is to make my parents to be proud of their daughter and give the all the happiness that they need, which is what that makes me happy and gives me satisfaction in what i do', 'once upon a time a friend of mine was giving me advice on some personal problem', 'i thought at that time that she was interfering unnecessarily in my life and she told me continously not to do what i am doing so, i stopped talking to her', 'but at later stage of my life i realised that she was correct and i misjudged her completely', 'i am a consistent performer and hard worker', 'a person from outside has varied experiences and has higher chances of improving certain aspects of an organisation than a person who has stayed on in an organisation for a long time', 'an organisation should hence always be open to outside people', 'i am actually more interested in salary than job', \"but that doesn't mean that i am not interested in my job\", 'my first preference goes to salary and then job', 'generally good salary means a good job in a big company but the burden is more', 'i like to work in big companies even when there are loads of work', 'job satisfaction is obtained when every aspect of work we do satisfies us which is impossible', 'it is salary that matters more for me', 'public speaking on social front, latest technologies in technical front and painting on personal front', 'about a few months back, i along with three other batch mates attended a hackathon organised by mercedes benz', 'according to the problem statement of the hackathon we were supposed to build something for the car of the future', 'so, as was the case with all other teams, the first thought that came to our mind was self driving cars', 'most of the teams started implementing their ideas of self-driving cars, but all in vain because lets face it building a self-driving car in twenty four hours is next to impossible', 'at that moment, i parted myself from the traditional way of thinking about innovations and came up with an idea which will enhance the experience of the driver', 'i came up with the idea of sentiment analysis of the passengers in the car and thought of changing the inside atmosphere of the car based on the current overall mood of the passengers', 'this worked well and the judges liked our idea and asked to add more feature to enhance the in-car driver experience over the next couple of months', 'i might be an asset because i put in my best to any work i take up', 'i am not shy of speaking my mind when necessary take it well when any positive criticism is directed at me', 'i am always keen to learn more', 'i think this job will help me to learn more and therefore, i am looking forward to it', 'i have a great interest in coding and machine learning and i wanted to do some research in machine learning so there is a lot of chance for me to join your organisation and hope we can achieve something big', 'so in this way i think i can be an asset to this organistion', 'during my first job, i was not very good at programming', 'so in order to not appear unskilled before the people i spent extra efforts to learn the same', 'the toughest decision was whether to join syntel and start working or to go for post graduation', 'and i chose post graduation as i felt give the amount of potential in my and my passion for my stream i can learn much better in higher studies', 'seriously speaking i never want to do a job until i had something to learn to gain from the job', 'i am not pointing to a particular job here i want but i want to explain the type of job i want', 'i want a job in which i always have something new to explore, it must be a job in which i like to participate more and more and work with my full concentration', 'frankly speaking, this is my third interview', 'i am kind of amateur in all this interview process, that is why i am also trying to figure out answer to above question', 'i personally feel usually for success it is about seventy percent hard work and thirty percent smart work', 'i have been in situations where i have only done hard work and no smart work and gotten literally no success', 'you should always work hard to improve your knowledge, and once you have your knowledge you can always do smart work', 'if you try to take shortcuts when you are learning, try to do smart work, you will never end up solving any problems', 'it was a project where the estimations of efforts and analysis of change done by the person was wrong and i was incharge of development of that product', 'i found out a way to convince my onsite counter part to buy a small amount of time as much as he can, and planned to break down the problems in small deliverables which would be given to the client one by one', 'so that we will get more time to develop and the deliverables also does not get delayed', 'because even if the requirement is delivered at once, tester will verify one by one so why not deliver in pieces', 'was awarded by my leads for handling this', 'these two are very interrelated, as low salary will affect your daily survival and low job satisfaction will end you in depression', 'so according to me bit of both is required', 'success according to me is that you started something which you are scared of and you completed properly', 'according to me i have started and completed many things properly so i am standing at a reasonable level according to my definition', 'smart, cooperative, friendly, understanding, strict, someone who acts like a leader and not like a boss', 'during my internship last summer, i was working on image data', 'my goal was to develop a software to examine the image and create a report', 'i created milestones without fully understanding the complexity involved in creating the project', \"as a result i encountered some problems during the development of the software and the project was not completed to the client's expectation\", 'the biggest takeaway is that one should spend significant time planning the strategy and also have some backup plans in case he original fails', \"my example of creativity is to accept new ideas and support them created by others like me and my friend did a project regarding percentage display of battery using arduino uno which was my friend's creative idea\", 'similarly i was current working on a creative project regarding solar energy harvesting and pollution monitoring', 'when i was in my high school, and when i had to prepare for my engineering entrance exams and board exams i had to study many hours and work hard to improve my performance', 'i then decided to prioritise my goals, and i realised that doing things which affect long term results are much important than things which give short term results', 'i decided to study for my engineering entrance exams more when compared to board exams because college is a place where we spend our crucial period of life, where we learn and get geared up for the career', 'though getting good marks in board exams is also important but making it into a good engineering college is more important', 'thus i was able to make a decision and reduce my workload', 'i think joining iiitb has been my best career decision so far', 'i was inspired by a lot of people in my life', 'the first being my parents', 'my mom and dad inspired me a lot in every step of my life and they still keep doing it', 'they taught how to handle things, how to treat people, how to handle failures, how to manage myself', 'i was also inspired by abraham lincoln, for being a great, sincere leader', 'i was also inspired by hitler and napoleon for being brave and trying to lead people into better things', 'i want to work in nasa', 'i hope that my dream will come true', 'i have experience with following the ethics of large scale organisations like yours and in terms of adjustment i would have no problem', 'i am also a dynamic person who can learn anytime and display perfection in it', 'i am also a hard working person who has a lot of patience which i think is a extra ordinary combination', 'i am also a self motivator so i always a fuel of motivation to do any work', 'i have also worked with world class professionals and have learnt new things which can help my fellow collegues', 'all these would make me a great asset to your organisation', 'i believe in what decisions i take for myself', 'even if they are wrong, i do not regret as at a point of time it was me who took that decision', 'not yet as there is lots to achieve in terms of gaining knowledge and excellence', 'my friends and teachers told me that i am very good in exploring new things to solve a problem, and that part is very useful when we stuck with some problem, and we need out of the box thinking', 'time is the main pillar of success, if you do not give priority to your time and waste your time in useless work you will not be succesful', 'actually in pressure i tend to work faster with less mistakes', 'i think it is very important to balance your life', 'we should work hard but at the same time we would manage our time for our family and friends', 'so to manage this i worked hard in week days some time burn the midnight oil for the whole night and in weekends i go out with my family and friends', 'i call my parents daily and talk to them for half an hour but i do that in the evening after done with my studies and that time is reserved to relax', 'i follow the well said thought busy but be free and also life is only one so make maximum out of it', 'there needs to be a push to the cultural activities in the institute like formation of clubs or forum for different activities', 'that is the one thing that lacks right now', 'further studies are necessary for anyone who is interested in getting the in depth knowledge of his field of interest', 'i would be an asset as i will put in my best effort', 'i will do the share of work allocated to me efficiently', 'i will try to create a friendly environment within the organization', 'i can be an asset to this organisation by contributing my knowledge and skills whenever and wherever it is required', 'i will put my hard work and full dedication to achieve the goal and can make good interaction with people in organisation so as to create a good understanding to work together efficiently', 'i would like to give a small example', 'consider person a and person b want to get a flowery phone case for themselves, and both of them know that there is no way they can find it online, but is not impossible to find it outside if put in a little effort, as they do not exactly know which shop sells it', 'person a tries to go to each and every shop to find that one perfect case for his phone, whereas person b gets a printout of a picture of that case, buys a transparent phone case, puts the picture to it and uses it, as it exactly resembles the case he wanted', 'here what person b did was smart work and what person a did was hard work', 'even though b finally got the case he wanted, he put in a lot of effort to do so, whereas a was smart enough to do what he did', 'people say hard work pays off, which is true, but when needed one should be smart enough to get things done easily', 'there are many situations where only working hard would make one achieve their goal', 'for example, passing an exam', 'being smart enough to cheat in a exam to pass is not smart work, though you pass the exam', 'such work does not help in long term', 'i prefer to be respected more than being liked', 'i believe respect is more truthful', 'i can assure a fruitful effort from my side', 'i assure proper utilisation of time and skills from my side', \"the organisation's  growth through my small efforts will be my ultimate goal\", 'i have a good coding skills in python', 'so i can code with the minimal expense of memory and algorithic time', 'so that is a perk of employing me', 'i constantly push myself to new tasks and challenges that i set up for myself', 'i sometimes need a little push to start off though, but that is very rare', 'if i can call it unprofessional, but my team sanskriti the team of cultural committee of the college and my other team sahyog the team of mentorship club of the college was a bit unprofessional', 'handling such a team was a little tough as it use to happen many times that we have a meeting and then we come to a conclusion and the tasks are allotted to the juniors with some deadline dates', 'they are not finished by that time, and many times, you have to come forward, and either make it done by other set of juniors or sometimes do it by your own', 'actually it depends upon the condition where i am in', 'in typical cases i will definitely take the risk', 'in common cases i will first think that it would result me profit or not or else i will not take very big risks that would end me up losing something', 'i never leave my work incomplete or undone', 'if you assign me some work, you can think of it as done', 'i usually play away from the deadlines', 'you need not worry about nagging me to submit the work on time', 'during my btech project we were in team of five members', 'so when we stuck somewhere we solve the problem in group as a team', 'whenever we face problem all of us start to find the solution', 'if anyone of us finds the solution then he explains to other team members and we start doing our work', 'also if someone dont want to come in our project meeting then we do not say that you have to come or something like that we are ok if someone is stuck with some other work', 'my first love i regret falling in love it destroyed me for quite sometime as it worked out very horribly i have not yet completely recovered from it but its probably for the best', 'it taught me many important things', 'now i am much more careful and smart', 'it is probably because of that i started working very hard and i am who i am today', 'i most probably am not able to balance life and work but i usually make a time table to create a balance', 'one problem in my nature is that i get distracted easily from my work if i am not in my workplace', 'so if you are a company which purely has work from home culture, you would not want to hire me', 'on the plus side, if you have a lab like environment in the office, i end up forcing myself to work in the lab as it provides me the right environment to work on', 'i would have spent little more time with my family', 'i would have tried to handle some of the problems in a different way', 'i would have set even higher goals for my life', 'apart from my studies, i want to visit new places in the world', 'i also have a hard feeling to go on a roadtrip in spain', 'one of the toughest decisions i had to make was to give gate without any formal coaching', 'i generally like to talk to my family and friends and roam around and have fun', 'i see myself as a more reputed and responsible person , on  a reputed post in some software company', 'it depends on the situation also', 'i am a risk taker', 'my strength is i am an active learner', 'i am definitely a risk-taker', 'there have been many mistakes but none too serious to comment here', 'short term goals, and associated rewards', \"for now, i can't say because i am still a student\", \"hiring a person doesn't depend on the origin of the person where he is from\", 'I promote creativity and team spirit', 'i see my self as a happy well settled man with a good job in the it sector , with a family and a car and house of my own', 'i read a lot', 'well i am not an organised person', 'when someone try to manipulate me for something or lie to me, that makes me angry', 'if i find i could contribute nothing to the job and  when i find the job does not need me', 'yes, i am a self-motivator', 'during my mtech course, i was very much over occupied with my subjects and projects that i took as open electives', 'i do not think that i balance my work and life properly', 'i will actually feel regarding that inside me and later i will agree with it thinking that anything happened will be good for us as long it does not cause harm to other human beings', 'in one sentence - confidence :i can do it and over-confidence: only i can do it', 'my inspiration for life are my parents, my teachers and a lot of famous personalities like apj abdul kalam, arnold schwarztneger, roger feder', \"not sure, if i can call it unprofessional, but my team 'sanskriti' the team of cultural committee of the college and my other team -'sahyog' the team of mentorship club of the college was a bit unprofessional\", 'i am applying as a fresher', 'yes i do', 'it depends on situation', 'i always fail keeping up my diet in order to lose weight, but i have lot of willpower and patience which keeps me going', 'i think it is very important t balance your life', \"nowadays every one is hardworking, flexible, creative but the most needed thing in any group is conflict management, because no two people on earth can think same way then we can't expect so many people working in a company to think same, do work same way\", 'friendliness', 'yes', 'i think both should be independent regarding the times you allocate for them and its very important to not indulge problems in one with other', 'i will explain him about my idea and its applications in all possible ways till he gets convinced', 'i would be more open to outside world and express myself to outside world as much as i can', 'i had to, when we were brainstorming ideas for a hacking session', 'during my b-tech final semester internship, i have experienced unprofessional behavior', \"i believe in the adage 'luck favours the brave'\", 'i can be an asset to this organisation by contributing my knowledge and skills whenever and wherever its required', 'i wish to see myself as dr', 'i am passionate about coding', 'public speaking on social front, latest technologies in technical front and painting on personal front', 'scaling a tech product from a 0 to a 1', 'confidence is one which lets a person break his inhibitions and attain great success', 'it was in the jan 2017', 'to disagree is natural and healthy, i believe', 'i was captain while i was at school and one day, along with a group of friends, i bunked science class', 'i define success as an achievement of your goals which also adhere to your ideals', 'i would like to be respected rather than being liked', \"i have been an active debater since my school days, so verbalizing an idea, abstract or otherwise, as such hasn't been an obstacle, so to speak\", \"in the organization , most of the employees think that they have got their job and won't have any problem in future\", 'doing something differently from whatever i am currently doing, may be i would think of making my career in some artistic field related to my hobbies', 'the last project i did was to implement a ip asset management portal for my institute', 'i was leading a couple of people when i was organising an event', 'my goal is to learn and explore more about the technologies and i am getting a very good platform by this job', 'actually it depends upon the condition where am i', 'abstractly i am passionate about life in general', 'if there occur situations when i lose hope or get down, i quickly get back to form and try completing my unfinished work', \"i would first tell him why he needs the product and how the product would make a difference to his life and how he can't do without the product\", 'it is said that change is the only constant in life, which is funny because it takes time to adapt to change', \"the toughest decision was 'weather to join syntel and start working or to go for post graduation'\", 'my strengths are: i am loyal, trustworthy person', 'i might be an asset because i put in my best to any work i take up', 'if i have any problem at my workplace then first i will try to understand my problem deeply and will try to solve  by own if possible', \"you shouldn't hire me if you are looking for people who treat their job as 9 to 5 business and don't take their role seriously\", \"sometimes i compromise if some elder person or the person whom i respect wants something on which i don't agree\", 'the satisfaction that i get after giving my 100% for any job motivates', 'the biggest challenge would have to be making my project members agree to a certain thing when we are modelling our problem in a certain way and each one wants to do it in their own way', 'the biggest challenge which i faced was when the release date of the product was closing in and there was a sudden requirement change', 'first, i would prepare myself for the potential questions', 'i try to minimize wastage and maximise usage of resources which requires to be creative', 'i am not a kind of person who just lives and dies, but i am a kind of person who want to live a great and exemplary life', 'well about that you can be the best judge', 'i never leave my work incomplete or undone', 'there are quite a few decisions i had to make over the last two years which changed my life in an unimaginable way', 'there was once one of my friend who was not able come with our group to kashmir on a trip', 'i expected a gate  rank below 100 when i started preparing for gate but unfortunately i got 498', 'i would like to think that it would not given my past experiences', 'i love to play cricket , badminton', 'the first thing that comes to my mind, is the inter-school event in which i had participated during my 11th std studies', 'it depends on situation', \"i am not very expressive and can't put thoughts into words, so i have failed in communicating my ideas and explaining it or even getting work done\", 'yes, it will definitely affect me when i am under pressure', 'i feel great about that', 'smart work helps you complete the task in lesser time using all possible ways', 'yes, i am a self-motivator', \"i've never been able to relate to any human being completely\", 'in an interview one must have to be confident and fell like he talks to a person not to a system', 'yes, i consider myself lucky just because i have human life where i have opportunity to learn and think', 'by giving them rewards and recognition and by working with them', 'a friend of mine was always late to project meetings and never informed us about the same', \"yea, i think you don't have any reason to not hire me\", 'i am a master of communication skills', 'while facing the day to day  problems , i wanted the to have some software to ease my work, i figured out one algorithm and designed the software to solve the problem', 'when i was in the 12th standard, i was asked to choose between biology or statistics', 'i am used to working under pressure after joining in iiit b', 'i consider myself to be a results oriented person with a strong drive for action', 'the qualities which i seek in my manager are', 'he has to be punctual', 'as much i can recall, when i started learning guitar', 'I am passionate about learning new things and exploring', 'I am a hardworking person', 'I am deeply interested in managing']\n",
            "[0, 0, 0, 0, 0, 0, 1, 1, 1, 1, 1, 1, 0, 0, 1, 0, 0, 0, 0, 0, 0, 0, 1, 1, 0, 0, 0, 0, 1, 0, 1, 0, 0, 1, 1, 0, 0, 0, 1, 1, 1, 1, 0, 1, 1, 1, 1, 0, 0, 0, 0, 0, 0, 0, 0, 0, 0, 0, 0, 0, 1, 0, 1, 0, 1, 1, 1, 1, 1, 0, 1, 1, 1, 0, 0, 1, 1, 0, 1, 1, 0, 0, 0, 0, 1, 0, 0, 0, 0, 0, 0, 0, 1, 0, 1, 1, 0, 0, 1, 1, 1, 0, 0, 1, 1, 0, 1, 0, 0, 1, 0, 1, 1, 0, 0, 0, 0, 0, 0, 1, 0, 1, 1, 1, 0, 0, 1, 0, 1, 1, 1, 1, 1, 1, 0, 1, 1, 0, 0, 1, 1, 1, 1, 0, 1, 0, 0, 1, 1, 1, 0, 0, 0, 0, 0, 1, 0, 0, 1, 0, 0, 0, 0, 0, 1, 0, 0, 1, 1, 1, 1, 1, 1, 1, 1, 1, 1, 1, 0, 0, 1, 0, 0, 1, 0, 0, 1, 1, 1, 1, 0, 0, 0, 0, 0, 1, 1, 0, 0, 1, 1, 1, 0, 1, 0, 0, 0, 0, 0, 0, 0, 0, 0, 0, 0, 0, 1, 1, 0, 0, 0, 0, 0, 0, 0, 0, 0, 0, 0, 0, 0, 0, 0, 1, 0, 0, 1, 0, 0, 0, 0, 0, 0, 1, 0, 0, 0, 0, 0, 0, 0, 1, 1, 1, 1, 0, 0, 0, 1, 1, 0, 0, 0, 0, 0, 0, 1, 0, 0, 0, 0, 0, 0, 0, 1, 0, 0, 1, 1, 1, 0, 1, 1, 0, 1, 0, 1, 0, 0, 0, 0, 0, 0, 0, 0, 0, 0, 1, 0, 0, 1, 0, 0, 0, 1, 1, 0, 0, 0, 0, 0, 0, 0, 1, 0, 0, 0, 1, 0, 0, 0, 0, 0, 0, 0, 0, 0, 1, 1, 1, 1, 1, 1, 0, 1, 0, 1, 0, 1, 0, 0, 1, 0, 0, 0, 0, 0, 1, 1, 1, 1, 1, 0, 0, 0, 0, 0, 0, 0, 0, 0, 0, 0, 0, 1, 1, 1, 1, 1, 0, 1, 0, 0, 0, 0, 0, 0, 0, 1, 1, 0, 1, 0, 0, 0, 0, 0, 0, 0, 1, 1, 0, 0, 0, 1, 0, 0, 0, 0, 0, 0, 0, 1, 0, 1, 1, 1, 0, 0, 0, 0, 1, 0, 1, 0, 0, 0, 1, 0, 0, 0, 1, 0, 0, 0, 0, 0, 1, 0, 0, 0, 0, 0, 1, 0, 0, 0, 0, 1, 0, 1, 0, 0, 0, 0, 0, 0, 0, 0, 1, 0, 0, 1, 1, 0, 0, 0, 1, 0, 0, 1, 1, 1, 1, 1, 0, 0, 0, 1, 0, 1, 1, 0, 1, 0, 0, 0, 0, 0, 0, 0, 0, 0, 0, 0, 1, 0, 0, 1, 0, 0, 1, 1, 1, 0, 1, 1, 0, 0, 0, 1, 1, 1]\n"
          ]
        }
      ]
    },
    {
      "cell_type": "code",
      "execution_count": 13,
      "metadata": {
        "colab": {
          "base_uri": "https://localhost:8080/",
          "height": 167,
          "referenced_widgets": [
            "6357dcb18b90411383187951f6734881",
            "42450c391f1040c0987f9c6e79c906fe",
            "451ca5e294744118afb138ac5d173552",
            "c7aff8557c124e939f322d063bc9221a",
            "a7e95a4dbea54effaa9bf8528b0b9aa8",
            "f3fe0e1b4a414bc3b34bd4eb230b13ce",
            "9c376e586120407fbf38ecce762cf368",
            "bb265030c32343c2b26e706c17b258c3",
            "b8676e31792e4aafbe91001263c5803b",
            "5d68c0657ffb4e6ab879945101f123a1",
            "fb0c4273aa574c12a893fc4725a9e680",
            "e97c1b1b5b5f4c2f80ce523b789002f7",
            "a727d52a10d24f6db7ecd04c41cc58ce",
            "cb4f8ee577e64becab336ecb6ad9ca96",
            "367bf3f1819e4beb853afba113d4b490",
            "7b3027ab007f4882bb9e5566af6f37e7",
            "fc0248e453da4c5eb9e99f1b415fb8c4",
            "607977f19919410cb63cbf162119afb9",
            "e63d40b9607144d4b680b3e8afd442cf",
            "ea4d65c9c99343e6b4d2d2cea555d7c5",
            "89b5d76f46ed457d862d2310f0d823b9",
            "50d8bcde829641158db9e9cdcfe44ba0",
            "a10ff0d7c7244f5eb378f8f812f83ec0",
            "4df083469e644f57bb07ebdee090f884",
            "851cde0d07f24b749fa72f94760577b8",
            "979464ae8fdb4fcf9e74875bcc4c6661",
            "8a451368a1fb46948df285fd425868e0",
            "faf17937dad1472dbc4a5cce94eb3c67",
            "0563cbc75b4148c9a044fd21e2730d2a",
            "c125abbf40bf43cfbd95937aeb142198",
            "39a6a64e115d421cbc825119e6842b0b",
            "adabd585176144028f0b5192c1438812",
            "aca4585f311545adbfb20b362a6ef1f8"
          ]
        },
        "id": "V3NrIFRoBR0z",
        "outputId": "a82ca004-f10a-4ac4-f068-62c71b706f1c"
      },
      "outputs": [
        {
          "output_type": "display_data",
          "data": {
            "text/plain": [
              "Downloading:   0%|          | 0.00/226k [00:00<?, ?B/s]"
            ],
            "application/vnd.jupyter.widget-view+json": {
              "version_major": 2,
              "version_minor": 0,
              "model_id": "6357dcb18b90411383187951f6734881"
            }
          },
          "metadata": {}
        },
        {
          "output_type": "display_data",
          "data": {
            "text/plain": [
              "Downloading:   0%|          | 0.00/28.0 [00:00<?, ?B/s]"
            ],
            "application/vnd.jupyter.widget-view+json": {
              "version_major": 2,
              "version_minor": 0,
              "model_id": "e97c1b1b5b5f4c2f80ce523b789002f7"
            }
          },
          "metadata": {}
        },
        {
          "output_type": "display_data",
          "data": {
            "text/plain": [
              "Downloading:   0%|          | 0.00/483 [00:00<?, ?B/s]"
            ],
            "application/vnd.jupyter.widget-view+json": {
              "version_major": 2,
              "version_minor": 0,
              "model_id": "a10ff0d7c7244f5eb378f8f812f83ec0"
            }
          },
          "metadata": {}
        },
        {
          "output_type": "stream",
          "name": "stdout",
          "text": [
            "review: 'extremely, given that i got admission in this college in the nick of time'\n",
            "input ids: [101, 5186, 1010, 2445, 2008, 1045, 2288, 9634, 1999, 2023, 2267, 1999, 1996, 4172, 1997, 2051, 102]\n",
            "attention mask: [1, 1, 1, 1, 1, 1, 1, 1, 1, 1, 1, 1, 1, 1, 1, 1, 1]\n"
          ]
        }
      ],
      "source": [
        "MODEL_NAME = 'distilbert-base-uncased'\n",
        "MAX_LEN = 20\n",
        "\n",
        "review = x[0]\n",
        "\n",
        "tkzr = DistilBertTokenizer.from_pretrained(MODEL_NAME)\n",
        "\n",
        "inputs = tkzr(review, max_length=MAX_LEN, truncation=True, padding=True)\n",
        "\n",
        "print(f'review: \\'{review}\\'')\n",
        "print(f'input ids: {inputs[\"input_ids\"]}')\n",
        "print(f'attention mask: {inputs[\"attention_mask\"]}')\n"
      ]
    },
    {
      "cell_type": "code",
      "execution_count": 19,
      "metadata": {
        "id": "XLkglDPp_Pe5"
      },
      "outputs": [],
      "source": [
        "def construct_encodings(x, tkzr, max_len, trucation=True, padding=True):\n",
        "    return tkzr(x, max_length=max_len, truncation=trucation, padding=padding)\n",
        "    \n",
        "encodings = construct_encodings(x, tkzr, max_len=MAX_LEN)"
      ]
    },
    {
      "cell_type": "code",
      "execution_count": 20,
      "metadata": {
        "id": "wnT0obBI_Pe6"
      },
      "outputs": [],
      "source": [
        "def construct_tfdataset(encodings, y=None):\n",
        "    if y:\n",
        "        return tf.data.Dataset.from_tensor_slices((dict(encodings),y))\n",
        "    else:\n",
        "        # this case is used when making predictions on unseen samples after training\n",
        "        return tf.data.Dataset.from_tensor_slices(dict(encodings))\n",
        "    \n",
        "tfdataset = construct_tfdataset(encodings, y)"
      ]
    },
    {
      "cell_type": "code",
      "execution_count": 21,
      "metadata": {
        "id": "fKTJqUF5R-o4"
      },
      "outputs": [],
      "source": [
        "TEST_SPLIT = 0.2\n",
        "BATCH_SIZE = 2\n",
        "\n",
        "train_size = int(len(x) * (1-TEST_SPLIT))\n",
        "\n",
        "tfdataset = tfdataset.shuffle(len(x))\n",
        "tfdataset_train = tfdataset.take(train_size)\n",
        "tfdataset_test = tfdataset.skip(train_size)\n",
        "\n",
        "tfdataset_train = tfdataset_train.batch(BATCH_SIZE)\n",
        "tfdataset_test = tfdataset_test.batch(BATCH_SIZE)"
      ]
    },
    {
      "cell_type": "code",
      "execution_count": 22,
      "metadata": {
        "colab": {
          "base_uri": "https://localhost:8080/",
          "height": 248,
          "referenced_widgets": [
            "550c59700ac540ecae2022bf7a4e334b",
            "2079f4c7636f47c581ea49f891042cb4",
            "39b50377b2f44af18789390869a6bc34",
            "db4a4ed5cf274292ba984dd3e0486507",
            "39cec29971b24f66b1866d108594b407",
            "d0aab88c4d604c5896310688f7c7b868",
            "72ac6b90666c4a8db267939a96b0bdb1",
            "c48440347e064d4f945292784756bded",
            "76529e6fe0534319bd7dd8a9c67f52e2",
            "f02a366fce1443318fbf49493cf8ee82",
            "d9f793bdf5e7430db802ea4ff9321513"
          ]
        },
        "id": "rVU_LoASQMcp",
        "outputId": "c68bb586-3407-4b6c-ba37-269fc2fd5ca5"
      },
      "outputs": [
        {
          "output_type": "display_data",
          "data": {
            "text/plain": [
              "Downloading:   0%|          | 0.00/347M [00:00<?, ?B/s]"
            ],
            "application/vnd.jupyter.widget-view+json": {
              "version_major": 2,
              "version_minor": 0,
              "model_id": "550c59700ac540ecae2022bf7a4e334b"
            }
          },
          "metadata": {}
        },
        {
          "output_type": "stream",
          "name": "stderr",
          "text": [
            "Some layers from the model checkpoint at distilbert-base-uncased were not used when initializing TFDistilBertForSequenceClassification: ['vocab_projector', 'vocab_transform', 'vocab_layer_norm', 'activation_13']\n",
            "- This IS expected if you are initializing TFDistilBertForSequenceClassification from the checkpoint of a model trained on another task or with another architecture (e.g. initializing a BertForSequenceClassification model from a BertForPreTraining model).\n",
            "- This IS NOT expected if you are initializing TFDistilBertForSequenceClassification from the checkpoint of a model that you expect to be exactly identical (initializing a BertForSequenceClassification model from a BertForSequenceClassification model).\n",
            "Some layers of TFDistilBertForSequenceClassification were not initialized from the model checkpoint at distilbert-base-uncased and are newly initialized: ['classifier', 'pre_classifier', 'dropout_19']\n",
            "You should probably TRAIN this model on a down-stream task to be able to use it for predictions and inference.\n"
          ]
        },
        {
          "output_type": "stream",
          "name": "stdout",
          "text": [
            "Epoch 1/2\n",
            "201/201 [==============================] - 156s 714ms/step - loss: 0.6348 - accuracy: 0.6393\n",
            "Epoch 2/2\n",
            "201/201 [==============================] - 143s 710ms/step - loss: 0.4818 - accuracy: 0.7836\n"
          ]
        },
        {
          "output_type": "execute_result",
          "data": {
            "text/plain": [
              "<keras.callbacks.History at 0x7ff59e5b21d0>"
            ]
          },
          "metadata": {},
          "execution_count": 22
        }
      ],
      "source": [
        "N_EPOCHS = 2\n",
        "\n",
        "model = TFDistilBertForSequenceClassification.from_pretrained(MODEL_NAME)\n",
        "optimizer = optimizers.Adam(learning_rate=3e-5)\n",
        "loss = losses.SparseCategoricalCrossentropy(from_logits=True)\n",
        "model.compile(optimizer=optimizer, loss=loss, metrics=['accuracy'])\n",
        "\n",
        "model.fit(tfdataset_train, batch_size=BATCH_SIZE, epochs=N_EPOCHS)"
      ]
    },
    {
      "cell_type": "markdown",
      "metadata": {
        "id": "Sgz5Jfi9cmDv"
      },
      "source": [
        "## Testing the model"
      ]
    },
    {
      "cell_type": "code",
      "execution_count": 29,
      "metadata": {
        "id": "QhmogfJhco0T",
        "outputId": "0da848f5-d7d0-460e-cf99-af807465564a",
        "colab": {
          "base_uri": "https://localhost:8080/"
        }
      },
      "outputs": [
        {
          "output_type": "stream",
          "name": "stdout",
          "text": [
            "<BatchDataset element_spec=({'input_ids': TensorSpec(shape=(None, 20), dtype=tf.int32, name=None), 'attention_mask': TensorSpec(shape=(None, 20), dtype=tf.int32, name=None)}, TensorSpec(shape=(None,), dtype=tf.int32, name=None))>\n",
            "51/51 [==============================] - 5s 106ms/step - loss: 0.2784 - accuracy: 0.9109\n",
            "{'loss': 0.2784176170825958, 'accuracy': 0.9108911156654358}\n"
          ]
        }
      ],
      "source": [
        "benchmarks = model.evaluate(tfdataset_test, return_dict=True, batch_size=BATCH_SIZE)\n",
        "print(benchmarks)"
      ]
    }
  ],
  "metadata": {
    "colab": {
      "collapsed_sections": [],
      "name": "distilbert_tf_Shre_Satty_Final?_MPL",
      "provenance": [],
      "include_colab_link": true
    },
    "kernelspec": {
      "display_name": "Python 3",
      "language": "python",
      "name": "python3"
    },
    "language_info": {
      "codemirror_mode": {
        "name": "ipython",
        "version": 3
      },
      "file_extension": ".py",
      "mimetype": "text/x-python",
      "name": "python",
      "nbconvert_exporter": "python",
      "pygments_lexer": "ipython3",
      "version": "3.8.5"
    },
    "widgets": {
      "application/vnd.jupyter.widget-state+json": {
        "6357dcb18b90411383187951f6734881": {
          "model_module": "@jupyter-widgets/controls",
          "model_name": "HBoxModel",
          "model_module_version": "1.5.0",
          "state": {
            "_dom_classes": [],
            "_model_module": "@jupyter-widgets/controls",
            "_model_module_version": "1.5.0",
            "_model_name": "HBoxModel",
            "_view_count": null,
            "_view_module": "@jupyter-widgets/controls",
            "_view_module_version": "1.5.0",
            "_view_name": "HBoxView",
            "box_style": "",
            "children": [
              "IPY_MODEL_42450c391f1040c0987f9c6e79c906fe",
              "IPY_MODEL_451ca5e294744118afb138ac5d173552",
              "IPY_MODEL_c7aff8557c124e939f322d063bc9221a"
            ],
            "layout": "IPY_MODEL_a7e95a4dbea54effaa9bf8528b0b9aa8"
          }
        },
        "42450c391f1040c0987f9c6e79c906fe": {
          "model_module": "@jupyter-widgets/controls",
          "model_name": "HTMLModel",
          "model_module_version": "1.5.0",
          "state": {
            "_dom_classes": [],
            "_model_module": "@jupyter-widgets/controls",
            "_model_module_version": "1.5.0",
            "_model_name": "HTMLModel",
            "_view_count": null,
            "_view_module": "@jupyter-widgets/controls",
            "_view_module_version": "1.5.0",
            "_view_name": "HTMLView",
            "description": "",
            "description_tooltip": null,
            "layout": "IPY_MODEL_f3fe0e1b4a414bc3b34bd4eb230b13ce",
            "placeholder": "​",
            "style": "IPY_MODEL_9c376e586120407fbf38ecce762cf368",
            "value": "Downloading: 100%"
          }
        },
        "451ca5e294744118afb138ac5d173552": {
          "model_module": "@jupyter-widgets/controls",
          "model_name": "FloatProgressModel",
          "model_module_version": "1.5.0",
          "state": {
            "_dom_classes": [],
            "_model_module": "@jupyter-widgets/controls",
            "_model_module_version": "1.5.0",
            "_model_name": "FloatProgressModel",
            "_view_count": null,
            "_view_module": "@jupyter-widgets/controls",
            "_view_module_version": "1.5.0",
            "_view_name": "ProgressView",
            "bar_style": "success",
            "description": "",
            "description_tooltip": null,
            "layout": "IPY_MODEL_bb265030c32343c2b26e706c17b258c3",
            "max": 231508,
            "min": 0,
            "orientation": "horizontal",
            "style": "IPY_MODEL_b8676e31792e4aafbe91001263c5803b",
            "value": 231508
          }
        },
        "c7aff8557c124e939f322d063bc9221a": {
          "model_module": "@jupyter-widgets/controls",
          "model_name": "HTMLModel",
          "model_module_version": "1.5.0",
          "state": {
            "_dom_classes": [],
            "_model_module": "@jupyter-widgets/controls",
            "_model_module_version": "1.5.0",
            "_model_name": "HTMLModel",
            "_view_count": null,
            "_view_module": "@jupyter-widgets/controls",
            "_view_module_version": "1.5.0",
            "_view_name": "HTMLView",
            "description": "",
            "description_tooltip": null,
            "layout": "IPY_MODEL_5d68c0657ffb4e6ab879945101f123a1",
            "placeholder": "​",
            "style": "IPY_MODEL_fb0c4273aa574c12a893fc4725a9e680",
            "value": " 226k/226k [00:00&lt;00:00, 648kB/s]"
          }
        },
        "a7e95a4dbea54effaa9bf8528b0b9aa8": {
          "model_module": "@jupyter-widgets/base",
          "model_name": "LayoutModel",
          "model_module_version": "1.2.0",
          "state": {
            "_model_module": "@jupyter-widgets/base",
            "_model_module_version": "1.2.0",
            "_model_name": "LayoutModel",
            "_view_count": null,
            "_view_module": "@jupyter-widgets/base",
            "_view_module_version": "1.2.0",
            "_view_name": "LayoutView",
            "align_content": null,
            "align_items": null,
            "align_self": null,
            "border": null,
            "bottom": null,
            "display": null,
            "flex": null,
            "flex_flow": null,
            "grid_area": null,
            "grid_auto_columns": null,
            "grid_auto_flow": null,
            "grid_auto_rows": null,
            "grid_column": null,
            "grid_gap": null,
            "grid_row": null,
            "grid_template_areas": null,
            "grid_template_columns": null,
            "grid_template_rows": null,
            "height": null,
            "justify_content": null,
            "justify_items": null,
            "left": null,
            "margin": null,
            "max_height": null,
            "max_width": null,
            "min_height": null,
            "min_width": null,
            "object_fit": null,
            "object_position": null,
            "order": null,
            "overflow": null,
            "overflow_x": null,
            "overflow_y": null,
            "padding": null,
            "right": null,
            "top": null,
            "visibility": null,
            "width": null
          }
        },
        "f3fe0e1b4a414bc3b34bd4eb230b13ce": {
          "model_module": "@jupyter-widgets/base",
          "model_name": "LayoutModel",
          "model_module_version": "1.2.0",
          "state": {
            "_model_module": "@jupyter-widgets/base",
            "_model_module_version": "1.2.0",
            "_model_name": "LayoutModel",
            "_view_count": null,
            "_view_module": "@jupyter-widgets/base",
            "_view_module_version": "1.2.0",
            "_view_name": "LayoutView",
            "align_content": null,
            "align_items": null,
            "align_self": null,
            "border": null,
            "bottom": null,
            "display": null,
            "flex": null,
            "flex_flow": null,
            "grid_area": null,
            "grid_auto_columns": null,
            "grid_auto_flow": null,
            "grid_auto_rows": null,
            "grid_column": null,
            "grid_gap": null,
            "grid_row": null,
            "grid_template_areas": null,
            "grid_template_columns": null,
            "grid_template_rows": null,
            "height": null,
            "justify_content": null,
            "justify_items": null,
            "left": null,
            "margin": null,
            "max_height": null,
            "max_width": null,
            "min_height": null,
            "min_width": null,
            "object_fit": null,
            "object_position": null,
            "order": null,
            "overflow": null,
            "overflow_x": null,
            "overflow_y": null,
            "padding": null,
            "right": null,
            "top": null,
            "visibility": null,
            "width": null
          }
        },
        "9c376e586120407fbf38ecce762cf368": {
          "model_module": "@jupyter-widgets/controls",
          "model_name": "DescriptionStyleModel",
          "model_module_version": "1.5.0",
          "state": {
            "_model_module": "@jupyter-widgets/controls",
            "_model_module_version": "1.5.0",
            "_model_name": "DescriptionStyleModel",
            "_view_count": null,
            "_view_module": "@jupyter-widgets/base",
            "_view_module_version": "1.2.0",
            "_view_name": "StyleView",
            "description_width": ""
          }
        },
        "bb265030c32343c2b26e706c17b258c3": {
          "model_module": "@jupyter-widgets/base",
          "model_name": "LayoutModel",
          "model_module_version": "1.2.0",
          "state": {
            "_model_module": "@jupyter-widgets/base",
            "_model_module_version": "1.2.0",
            "_model_name": "LayoutModel",
            "_view_count": null,
            "_view_module": "@jupyter-widgets/base",
            "_view_module_version": "1.2.0",
            "_view_name": "LayoutView",
            "align_content": null,
            "align_items": null,
            "align_self": null,
            "border": null,
            "bottom": null,
            "display": null,
            "flex": null,
            "flex_flow": null,
            "grid_area": null,
            "grid_auto_columns": null,
            "grid_auto_flow": null,
            "grid_auto_rows": null,
            "grid_column": null,
            "grid_gap": null,
            "grid_row": null,
            "grid_template_areas": null,
            "grid_template_columns": null,
            "grid_template_rows": null,
            "height": null,
            "justify_content": null,
            "justify_items": null,
            "left": null,
            "margin": null,
            "max_height": null,
            "max_width": null,
            "min_height": null,
            "min_width": null,
            "object_fit": null,
            "object_position": null,
            "order": null,
            "overflow": null,
            "overflow_x": null,
            "overflow_y": null,
            "padding": null,
            "right": null,
            "top": null,
            "visibility": null,
            "width": null
          }
        },
        "b8676e31792e4aafbe91001263c5803b": {
          "model_module": "@jupyter-widgets/controls",
          "model_name": "ProgressStyleModel",
          "model_module_version": "1.5.0",
          "state": {
            "_model_module": "@jupyter-widgets/controls",
            "_model_module_version": "1.5.0",
            "_model_name": "ProgressStyleModel",
            "_view_count": null,
            "_view_module": "@jupyter-widgets/base",
            "_view_module_version": "1.2.0",
            "_view_name": "StyleView",
            "bar_color": null,
            "description_width": ""
          }
        },
        "5d68c0657ffb4e6ab879945101f123a1": {
          "model_module": "@jupyter-widgets/base",
          "model_name": "LayoutModel",
          "model_module_version": "1.2.0",
          "state": {
            "_model_module": "@jupyter-widgets/base",
            "_model_module_version": "1.2.0",
            "_model_name": "LayoutModel",
            "_view_count": null,
            "_view_module": "@jupyter-widgets/base",
            "_view_module_version": "1.2.0",
            "_view_name": "LayoutView",
            "align_content": null,
            "align_items": null,
            "align_self": null,
            "border": null,
            "bottom": null,
            "display": null,
            "flex": null,
            "flex_flow": null,
            "grid_area": null,
            "grid_auto_columns": null,
            "grid_auto_flow": null,
            "grid_auto_rows": null,
            "grid_column": null,
            "grid_gap": null,
            "grid_row": null,
            "grid_template_areas": null,
            "grid_template_columns": null,
            "grid_template_rows": null,
            "height": null,
            "justify_content": null,
            "justify_items": null,
            "left": null,
            "margin": null,
            "max_height": null,
            "max_width": null,
            "min_height": null,
            "min_width": null,
            "object_fit": null,
            "object_position": null,
            "order": null,
            "overflow": null,
            "overflow_x": null,
            "overflow_y": null,
            "padding": null,
            "right": null,
            "top": null,
            "visibility": null,
            "width": null
          }
        },
        "fb0c4273aa574c12a893fc4725a9e680": {
          "model_module": "@jupyter-widgets/controls",
          "model_name": "DescriptionStyleModel",
          "model_module_version": "1.5.0",
          "state": {
            "_model_module": "@jupyter-widgets/controls",
            "_model_module_version": "1.5.0",
            "_model_name": "DescriptionStyleModel",
            "_view_count": null,
            "_view_module": "@jupyter-widgets/base",
            "_view_module_version": "1.2.0",
            "_view_name": "StyleView",
            "description_width": ""
          }
        },
        "e97c1b1b5b5f4c2f80ce523b789002f7": {
          "model_module": "@jupyter-widgets/controls",
          "model_name": "HBoxModel",
          "model_module_version": "1.5.0",
          "state": {
            "_dom_classes": [],
            "_model_module": "@jupyter-widgets/controls",
            "_model_module_version": "1.5.0",
            "_model_name": "HBoxModel",
            "_view_count": null,
            "_view_module": "@jupyter-widgets/controls",
            "_view_module_version": "1.5.0",
            "_view_name": "HBoxView",
            "box_style": "",
            "children": [
              "IPY_MODEL_a727d52a10d24f6db7ecd04c41cc58ce",
              "IPY_MODEL_cb4f8ee577e64becab336ecb6ad9ca96",
              "IPY_MODEL_367bf3f1819e4beb853afba113d4b490"
            ],
            "layout": "IPY_MODEL_7b3027ab007f4882bb9e5566af6f37e7"
          }
        },
        "a727d52a10d24f6db7ecd04c41cc58ce": {
          "model_module": "@jupyter-widgets/controls",
          "model_name": "HTMLModel",
          "model_module_version": "1.5.0",
          "state": {
            "_dom_classes": [],
            "_model_module": "@jupyter-widgets/controls",
            "_model_module_version": "1.5.0",
            "_model_name": "HTMLModel",
            "_view_count": null,
            "_view_module": "@jupyter-widgets/controls",
            "_view_module_version": "1.5.0",
            "_view_name": "HTMLView",
            "description": "",
            "description_tooltip": null,
            "layout": "IPY_MODEL_fc0248e453da4c5eb9e99f1b415fb8c4",
            "placeholder": "​",
            "style": "IPY_MODEL_607977f19919410cb63cbf162119afb9",
            "value": "Downloading: 100%"
          }
        },
        "cb4f8ee577e64becab336ecb6ad9ca96": {
          "model_module": "@jupyter-widgets/controls",
          "model_name": "FloatProgressModel",
          "model_module_version": "1.5.0",
          "state": {
            "_dom_classes": [],
            "_model_module": "@jupyter-widgets/controls",
            "_model_module_version": "1.5.0",
            "_model_name": "FloatProgressModel",
            "_view_count": null,
            "_view_module": "@jupyter-widgets/controls",
            "_view_module_version": "1.5.0",
            "_view_name": "ProgressView",
            "bar_style": "success",
            "description": "",
            "description_tooltip": null,
            "layout": "IPY_MODEL_e63d40b9607144d4b680b3e8afd442cf",
            "max": 28,
            "min": 0,
            "orientation": "horizontal",
            "style": "IPY_MODEL_ea4d65c9c99343e6b4d2d2cea555d7c5",
            "value": 28
          }
        },
        "367bf3f1819e4beb853afba113d4b490": {
          "model_module": "@jupyter-widgets/controls",
          "model_name": "HTMLModel",
          "model_module_version": "1.5.0",
          "state": {
            "_dom_classes": [],
            "_model_module": "@jupyter-widgets/controls",
            "_model_module_version": "1.5.0",
            "_model_name": "HTMLModel",
            "_view_count": null,
            "_view_module": "@jupyter-widgets/controls",
            "_view_module_version": "1.5.0",
            "_view_name": "HTMLView",
            "description": "",
            "description_tooltip": null,
            "layout": "IPY_MODEL_89b5d76f46ed457d862d2310f0d823b9",
            "placeholder": "​",
            "style": "IPY_MODEL_50d8bcde829641158db9e9cdcfe44ba0",
            "value": " 28.0/28.0 [00:00&lt;00:00, 568B/s]"
          }
        },
        "7b3027ab007f4882bb9e5566af6f37e7": {
          "model_module": "@jupyter-widgets/base",
          "model_name": "LayoutModel",
          "model_module_version": "1.2.0",
          "state": {
            "_model_module": "@jupyter-widgets/base",
            "_model_module_version": "1.2.0",
            "_model_name": "LayoutModel",
            "_view_count": null,
            "_view_module": "@jupyter-widgets/base",
            "_view_module_version": "1.2.0",
            "_view_name": "LayoutView",
            "align_content": null,
            "align_items": null,
            "align_self": null,
            "border": null,
            "bottom": null,
            "display": null,
            "flex": null,
            "flex_flow": null,
            "grid_area": null,
            "grid_auto_columns": null,
            "grid_auto_flow": null,
            "grid_auto_rows": null,
            "grid_column": null,
            "grid_gap": null,
            "grid_row": null,
            "grid_template_areas": null,
            "grid_template_columns": null,
            "grid_template_rows": null,
            "height": null,
            "justify_content": null,
            "justify_items": null,
            "left": null,
            "margin": null,
            "max_height": null,
            "max_width": null,
            "min_height": null,
            "min_width": null,
            "object_fit": null,
            "object_position": null,
            "order": null,
            "overflow": null,
            "overflow_x": null,
            "overflow_y": null,
            "padding": null,
            "right": null,
            "top": null,
            "visibility": null,
            "width": null
          }
        },
        "fc0248e453da4c5eb9e99f1b415fb8c4": {
          "model_module": "@jupyter-widgets/base",
          "model_name": "LayoutModel",
          "model_module_version": "1.2.0",
          "state": {
            "_model_module": "@jupyter-widgets/base",
            "_model_module_version": "1.2.0",
            "_model_name": "LayoutModel",
            "_view_count": null,
            "_view_module": "@jupyter-widgets/base",
            "_view_module_version": "1.2.0",
            "_view_name": "LayoutView",
            "align_content": null,
            "align_items": null,
            "align_self": null,
            "border": null,
            "bottom": null,
            "display": null,
            "flex": null,
            "flex_flow": null,
            "grid_area": null,
            "grid_auto_columns": null,
            "grid_auto_flow": null,
            "grid_auto_rows": null,
            "grid_column": null,
            "grid_gap": null,
            "grid_row": null,
            "grid_template_areas": null,
            "grid_template_columns": null,
            "grid_template_rows": null,
            "height": null,
            "justify_content": null,
            "justify_items": null,
            "left": null,
            "margin": null,
            "max_height": null,
            "max_width": null,
            "min_height": null,
            "min_width": null,
            "object_fit": null,
            "object_position": null,
            "order": null,
            "overflow": null,
            "overflow_x": null,
            "overflow_y": null,
            "padding": null,
            "right": null,
            "top": null,
            "visibility": null,
            "width": null
          }
        },
        "607977f19919410cb63cbf162119afb9": {
          "model_module": "@jupyter-widgets/controls",
          "model_name": "DescriptionStyleModel",
          "model_module_version": "1.5.0",
          "state": {
            "_model_module": "@jupyter-widgets/controls",
            "_model_module_version": "1.5.0",
            "_model_name": "DescriptionStyleModel",
            "_view_count": null,
            "_view_module": "@jupyter-widgets/base",
            "_view_module_version": "1.2.0",
            "_view_name": "StyleView",
            "description_width": ""
          }
        },
        "e63d40b9607144d4b680b3e8afd442cf": {
          "model_module": "@jupyter-widgets/base",
          "model_name": "LayoutModel",
          "model_module_version": "1.2.0",
          "state": {
            "_model_module": "@jupyter-widgets/base",
            "_model_module_version": "1.2.0",
            "_model_name": "LayoutModel",
            "_view_count": null,
            "_view_module": "@jupyter-widgets/base",
            "_view_module_version": "1.2.0",
            "_view_name": "LayoutView",
            "align_content": null,
            "align_items": null,
            "align_self": null,
            "border": null,
            "bottom": null,
            "display": null,
            "flex": null,
            "flex_flow": null,
            "grid_area": null,
            "grid_auto_columns": null,
            "grid_auto_flow": null,
            "grid_auto_rows": null,
            "grid_column": null,
            "grid_gap": null,
            "grid_row": null,
            "grid_template_areas": null,
            "grid_template_columns": null,
            "grid_template_rows": null,
            "height": null,
            "justify_content": null,
            "justify_items": null,
            "left": null,
            "margin": null,
            "max_height": null,
            "max_width": null,
            "min_height": null,
            "min_width": null,
            "object_fit": null,
            "object_position": null,
            "order": null,
            "overflow": null,
            "overflow_x": null,
            "overflow_y": null,
            "padding": null,
            "right": null,
            "top": null,
            "visibility": null,
            "width": null
          }
        },
        "ea4d65c9c99343e6b4d2d2cea555d7c5": {
          "model_module": "@jupyter-widgets/controls",
          "model_name": "ProgressStyleModel",
          "model_module_version": "1.5.0",
          "state": {
            "_model_module": "@jupyter-widgets/controls",
            "_model_module_version": "1.5.0",
            "_model_name": "ProgressStyleModel",
            "_view_count": null,
            "_view_module": "@jupyter-widgets/base",
            "_view_module_version": "1.2.0",
            "_view_name": "StyleView",
            "bar_color": null,
            "description_width": ""
          }
        },
        "89b5d76f46ed457d862d2310f0d823b9": {
          "model_module": "@jupyter-widgets/base",
          "model_name": "LayoutModel",
          "model_module_version": "1.2.0",
          "state": {
            "_model_module": "@jupyter-widgets/base",
            "_model_module_version": "1.2.0",
            "_model_name": "LayoutModel",
            "_view_count": null,
            "_view_module": "@jupyter-widgets/base",
            "_view_module_version": "1.2.0",
            "_view_name": "LayoutView",
            "align_content": null,
            "align_items": null,
            "align_self": null,
            "border": null,
            "bottom": null,
            "display": null,
            "flex": null,
            "flex_flow": null,
            "grid_area": null,
            "grid_auto_columns": null,
            "grid_auto_flow": null,
            "grid_auto_rows": null,
            "grid_column": null,
            "grid_gap": null,
            "grid_row": null,
            "grid_template_areas": null,
            "grid_template_columns": null,
            "grid_template_rows": null,
            "height": null,
            "justify_content": null,
            "justify_items": null,
            "left": null,
            "margin": null,
            "max_height": null,
            "max_width": null,
            "min_height": null,
            "min_width": null,
            "object_fit": null,
            "object_position": null,
            "order": null,
            "overflow": null,
            "overflow_x": null,
            "overflow_y": null,
            "padding": null,
            "right": null,
            "top": null,
            "visibility": null,
            "width": null
          }
        },
        "50d8bcde829641158db9e9cdcfe44ba0": {
          "model_module": "@jupyter-widgets/controls",
          "model_name": "DescriptionStyleModel",
          "model_module_version": "1.5.0",
          "state": {
            "_model_module": "@jupyter-widgets/controls",
            "_model_module_version": "1.5.0",
            "_model_name": "DescriptionStyleModel",
            "_view_count": null,
            "_view_module": "@jupyter-widgets/base",
            "_view_module_version": "1.2.0",
            "_view_name": "StyleView",
            "description_width": ""
          }
        },
        "a10ff0d7c7244f5eb378f8f812f83ec0": {
          "model_module": "@jupyter-widgets/controls",
          "model_name": "HBoxModel",
          "model_module_version": "1.5.0",
          "state": {
            "_dom_classes": [],
            "_model_module": "@jupyter-widgets/controls",
            "_model_module_version": "1.5.0",
            "_model_name": "HBoxModel",
            "_view_count": null,
            "_view_module": "@jupyter-widgets/controls",
            "_view_module_version": "1.5.0",
            "_view_name": "HBoxView",
            "box_style": "",
            "children": [
              "IPY_MODEL_4df083469e644f57bb07ebdee090f884",
              "IPY_MODEL_851cde0d07f24b749fa72f94760577b8",
              "IPY_MODEL_979464ae8fdb4fcf9e74875bcc4c6661"
            ],
            "layout": "IPY_MODEL_8a451368a1fb46948df285fd425868e0"
          }
        },
        "4df083469e644f57bb07ebdee090f884": {
          "model_module": "@jupyter-widgets/controls",
          "model_name": "HTMLModel",
          "model_module_version": "1.5.0",
          "state": {
            "_dom_classes": [],
            "_model_module": "@jupyter-widgets/controls",
            "_model_module_version": "1.5.0",
            "_model_name": "HTMLModel",
            "_view_count": null,
            "_view_module": "@jupyter-widgets/controls",
            "_view_module_version": "1.5.0",
            "_view_name": "HTMLView",
            "description": "",
            "description_tooltip": null,
            "layout": "IPY_MODEL_faf17937dad1472dbc4a5cce94eb3c67",
            "placeholder": "​",
            "style": "IPY_MODEL_0563cbc75b4148c9a044fd21e2730d2a",
            "value": "Downloading: 100%"
          }
        },
        "851cde0d07f24b749fa72f94760577b8": {
          "model_module": "@jupyter-widgets/controls",
          "model_name": "FloatProgressModel",
          "model_module_version": "1.5.0",
          "state": {
            "_dom_classes": [],
            "_model_module": "@jupyter-widgets/controls",
            "_model_module_version": "1.5.0",
            "_model_name": "FloatProgressModel",
            "_view_count": null,
            "_view_module": "@jupyter-widgets/controls",
            "_view_module_version": "1.5.0",
            "_view_name": "ProgressView",
            "bar_style": "success",
            "description": "",
            "description_tooltip": null,
            "layout": "IPY_MODEL_c125abbf40bf43cfbd95937aeb142198",
            "max": 483,
            "min": 0,
            "orientation": "horizontal",
            "style": "IPY_MODEL_39a6a64e115d421cbc825119e6842b0b",
            "value": 483
          }
        },
        "979464ae8fdb4fcf9e74875bcc4c6661": {
          "model_module": "@jupyter-widgets/controls",
          "model_name": "HTMLModel",
          "model_module_version": "1.5.0",
          "state": {
            "_dom_classes": [],
            "_model_module": "@jupyter-widgets/controls",
            "_model_module_version": "1.5.0",
            "_model_name": "HTMLModel",
            "_view_count": null,
            "_view_module": "@jupyter-widgets/controls",
            "_view_module_version": "1.5.0",
            "_view_name": "HTMLView",
            "description": "",
            "description_tooltip": null,
            "layout": "IPY_MODEL_adabd585176144028f0b5192c1438812",
            "placeholder": "​",
            "style": "IPY_MODEL_aca4585f311545adbfb20b362a6ef1f8",
            "value": " 483/483 [00:00&lt;00:00, 9.73kB/s]"
          }
        },
        "8a451368a1fb46948df285fd425868e0": {
          "model_module": "@jupyter-widgets/base",
          "model_name": "LayoutModel",
          "model_module_version": "1.2.0",
          "state": {
            "_model_module": "@jupyter-widgets/base",
            "_model_module_version": "1.2.0",
            "_model_name": "LayoutModel",
            "_view_count": null,
            "_view_module": "@jupyter-widgets/base",
            "_view_module_version": "1.2.0",
            "_view_name": "LayoutView",
            "align_content": null,
            "align_items": null,
            "align_self": null,
            "border": null,
            "bottom": null,
            "display": null,
            "flex": null,
            "flex_flow": null,
            "grid_area": null,
            "grid_auto_columns": null,
            "grid_auto_flow": null,
            "grid_auto_rows": null,
            "grid_column": null,
            "grid_gap": null,
            "grid_row": null,
            "grid_template_areas": null,
            "grid_template_columns": null,
            "grid_template_rows": null,
            "height": null,
            "justify_content": null,
            "justify_items": null,
            "left": null,
            "margin": null,
            "max_height": null,
            "max_width": null,
            "min_height": null,
            "min_width": null,
            "object_fit": null,
            "object_position": null,
            "order": null,
            "overflow": null,
            "overflow_x": null,
            "overflow_y": null,
            "padding": null,
            "right": null,
            "top": null,
            "visibility": null,
            "width": null
          }
        },
        "faf17937dad1472dbc4a5cce94eb3c67": {
          "model_module": "@jupyter-widgets/base",
          "model_name": "LayoutModel",
          "model_module_version": "1.2.0",
          "state": {
            "_model_module": "@jupyter-widgets/base",
            "_model_module_version": "1.2.0",
            "_model_name": "LayoutModel",
            "_view_count": null,
            "_view_module": "@jupyter-widgets/base",
            "_view_module_version": "1.2.0",
            "_view_name": "LayoutView",
            "align_content": null,
            "align_items": null,
            "align_self": null,
            "border": null,
            "bottom": null,
            "display": null,
            "flex": null,
            "flex_flow": null,
            "grid_area": null,
            "grid_auto_columns": null,
            "grid_auto_flow": null,
            "grid_auto_rows": null,
            "grid_column": null,
            "grid_gap": null,
            "grid_row": null,
            "grid_template_areas": null,
            "grid_template_columns": null,
            "grid_template_rows": null,
            "height": null,
            "justify_content": null,
            "justify_items": null,
            "left": null,
            "margin": null,
            "max_height": null,
            "max_width": null,
            "min_height": null,
            "min_width": null,
            "object_fit": null,
            "object_position": null,
            "order": null,
            "overflow": null,
            "overflow_x": null,
            "overflow_y": null,
            "padding": null,
            "right": null,
            "top": null,
            "visibility": null,
            "width": null
          }
        },
        "0563cbc75b4148c9a044fd21e2730d2a": {
          "model_module": "@jupyter-widgets/controls",
          "model_name": "DescriptionStyleModel",
          "model_module_version": "1.5.0",
          "state": {
            "_model_module": "@jupyter-widgets/controls",
            "_model_module_version": "1.5.0",
            "_model_name": "DescriptionStyleModel",
            "_view_count": null,
            "_view_module": "@jupyter-widgets/base",
            "_view_module_version": "1.2.0",
            "_view_name": "StyleView",
            "description_width": ""
          }
        },
        "c125abbf40bf43cfbd95937aeb142198": {
          "model_module": "@jupyter-widgets/base",
          "model_name": "LayoutModel",
          "model_module_version": "1.2.0",
          "state": {
            "_model_module": "@jupyter-widgets/base",
            "_model_module_version": "1.2.0",
            "_model_name": "LayoutModel",
            "_view_count": null,
            "_view_module": "@jupyter-widgets/base",
            "_view_module_version": "1.2.0",
            "_view_name": "LayoutView",
            "align_content": null,
            "align_items": null,
            "align_self": null,
            "border": null,
            "bottom": null,
            "display": null,
            "flex": null,
            "flex_flow": null,
            "grid_area": null,
            "grid_auto_columns": null,
            "grid_auto_flow": null,
            "grid_auto_rows": null,
            "grid_column": null,
            "grid_gap": null,
            "grid_row": null,
            "grid_template_areas": null,
            "grid_template_columns": null,
            "grid_template_rows": null,
            "height": null,
            "justify_content": null,
            "justify_items": null,
            "left": null,
            "margin": null,
            "max_height": null,
            "max_width": null,
            "min_height": null,
            "min_width": null,
            "object_fit": null,
            "object_position": null,
            "order": null,
            "overflow": null,
            "overflow_x": null,
            "overflow_y": null,
            "padding": null,
            "right": null,
            "top": null,
            "visibility": null,
            "width": null
          }
        },
        "39a6a64e115d421cbc825119e6842b0b": {
          "model_module": "@jupyter-widgets/controls",
          "model_name": "ProgressStyleModel",
          "model_module_version": "1.5.0",
          "state": {
            "_model_module": "@jupyter-widgets/controls",
            "_model_module_version": "1.5.0",
            "_model_name": "ProgressStyleModel",
            "_view_count": null,
            "_view_module": "@jupyter-widgets/base",
            "_view_module_version": "1.2.0",
            "_view_name": "StyleView",
            "bar_color": null,
            "description_width": ""
          }
        },
        "adabd585176144028f0b5192c1438812": {
          "model_module": "@jupyter-widgets/base",
          "model_name": "LayoutModel",
          "model_module_version": "1.2.0",
          "state": {
            "_model_module": "@jupyter-widgets/base",
            "_model_module_version": "1.2.0",
            "_model_name": "LayoutModel",
            "_view_count": null,
            "_view_module": "@jupyter-widgets/base",
            "_view_module_version": "1.2.0",
            "_view_name": "LayoutView",
            "align_content": null,
            "align_items": null,
            "align_self": null,
            "border": null,
            "bottom": null,
            "display": null,
            "flex": null,
            "flex_flow": null,
            "grid_area": null,
            "grid_auto_columns": null,
            "grid_auto_flow": null,
            "grid_auto_rows": null,
            "grid_column": null,
            "grid_gap": null,
            "grid_row": null,
            "grid_template_areas": null,
            "grid_template_columns": null,
            "grid_template_rows": null,
            "height": null,
            "justify_content": null,
            "justify_items": null,
            "left": null,
            "margin": null,
            "max_height": null,
            "max_width": null,
            "min_height": null,
            "min_width": null,
            "object_fit": null,
            "object_position": null,
            "order": null,
            "overflow": null,
            "overflow_x": null,
            "overflow_y": null,
            "padding": null,
            "right": null,
            "top": null,
            "visibility": null,
            "width": null
          }
        },
        "aca4585f311545adbfb20b362a6ef1f8": {
          "model_module": "@jupyter-widgets/controls",
          "model_name": "DescriptionStyleModel",
          "model_module_version": "1.5.0",
          "state": {
            "_model_module": "@jupyter-widgets/controls",
            "_model_module_version": "1.5.0",
            "_model_name": "DescriptionStyleModel",
            "_view_count": null,
            "_view_module": "@jupyter-widgets/base",
            "_view_module_version": "1.2.0",
            "_view_name": "StyleView",
            "description_width": ""
          }
        },
        "550c59700ac540ecae2022bf7a4e334b": {
          "model_module": "@jupyter-widgets/controls",
          "model_name": "HBoxModel",
          "model_module_version": "1.5.0",
          "state": {
            "_dom_classes": [],
            "_model_module": "@jupyter-widgets/controls",
            "_model_module_version": "1.5.0",
            "_model_name": "HBoxModel",
            "_view_count": null,
            "_view_module": "@jupyter-widgets/controls",
            "_view_module_version": "1.5.0",
            "_view_name": "HBoxView",
            "box_style": "",
            "children": [
              "IPY_MODEL_2079f4c7636f47c581ea49f891042cb4",
              "IPY_MODEL_39b50377b2f44af18789390869a6bc34",
              "IPY_MODEL_db4a4ed5cf274292ba984dd3e0486507"
            ],
            "layout": "IPY_MODEL_39cec29971b24f66b1866d108594b407"
          }
        },
        "2079f4c7636f47c581ea49f891042cb4": {
          "model_module": "@jupyter-widgets/controls",
          "model_name": "HTMLModel",
          "model_module_version": "1.5.0",
          "state": {
            "_dom_classes": [],
            "_model_module": "@jupyter-widgets/controls",
            "_model_module_version": "1.5.0",
            "_model_name": "HTMLModel",
            "_view_count": null,
            "_view_module": "@jupyter-widgets/controls",
            "_view_module_version": "1.5.0",
            "_view_name": "HTMLView",
            "description": "",
            "description_tooltip": null,
            "layout": "IPY_MODEL_d0aab88c4d604c5896310688f7c7b868",
            "placeholder": "​",
            "style": "IPY_MODEL_72ac6b90666c4a8db267939a96b0bdb1",
            "value": "Downloading: 100%"
          }
        },
        "39b50377b2f44af18789390869a6bc34": {
          "model_module": "@jupyter-widgets/controls",
          "model_name": "FloatProgressModel",
          "model_module_version": "1.5.0",
          "state": {
            "_dom_classes": [],
            "_model_module": "@jupyter-widgets/controls",
            "_model_module_version": "1.5.0",
            "_model_name": "FloatProgressModel",
            "_view_count": null,
            "_view_module": "@jupyter-widgets/controls",
            "_view_module_version": "1.5.0",
            "_view_name": "ProgressView",
            "bar_style": "success",
            "description": "",
            "description_tooltip": null,
            "layout": "IPY_MODEL_c48440347e064d4f945292784756bded",
            "max": 363423424,
            "min": 0,
            "orientation": "horizontal",
            "style": "IPY_MODEL_76529e6fe0534319bd7dd8a9c67f52e2",
            "value": 363423424
          }
        },
        "db4a4ed5cf274292ba984dd3e0486507": {
          "model_module": "@jupyter-widgets/controls",
          "model_name": "HTMLModel",
          "model_module_version": "1.5.0",
          "state": {
            "_dom_classes": [],
            "_model_module": "@jupyter-widgets/controls",
            "_model_module_version": "1.5.0",
            "_model_name": "HTMLModel",
            "_view_count": null,
            "_view_module": "@jupyter-widgets/controls",
            "_view_module_version": "1.5.0",
            "_view_name": "HTMLView",
            "description": "",
            "description_tooltip": null,
            "layout": "IPY_MODEL_f02a366fce1443318fbf49493cf8ee82",
            "placeholder": "​",
            "style": "IPY_MODEL_d9f793bdf5e7430db802ea4ff9321513",
            "value": " 347M/347M [00:08&lt;00:00, 32.2MB/s]"
          }
        },
        "39cec29971b24f66b1866d108594b407": {
          "model_module": "@jupyter-widgets/base",
          "model_name": "LayoutModel",
          "model_module_version": "1.2.0",
          "state": {
            "_model_module": "@jupyter-widgets/base",
            "_model_module_version": "1.2.0",
            "_model_name": "LayoutModel",
            "_view_count": null,
            "_view_module": "@jupyter-widgets/base",
            "_view_module_version": "1.2.0",
            "_view_name": "LayoutView",
            "align_content": null,
            "align_items": null,
            "align_self": null,
            "border": null,
            "bottom": null,
            "display": null,
            "flex": null,
            "flex_flow": null,
            "grid_area": null,
            "grid_auto_columns": null,
            "grid_auto_flow": null,
            "grid_auto_rows": null,
            "grid_column": null,
            "grid_gap": null,
            "grid_row": null,
            "grid_template_areas": null,
            "grid_template_columns": null,
            "grid_template_rows": null,
            "height": null,
            "justify_content": null,
            "justify_items": null,
            "left": null,
            "margin": null,
            "max_height": null,
            "max_width": null,
            "min_height": null,
            "min_width": null,
            "object_fit": null,
            "object_position": null,
            "order": null,
            "overflow": null,
            "overflow_x": null,
            "overflow_y": null,
            "padding": null,
            "right": null,
            "top": null,
            "visibility": null,
            "width": null
          }
        },
        "d0aab88c4d604c5896310688f7c7b868": {
          "model_module": "@jupyter-widgets/base",
          "model_name": "LayoutModel",
          "model_module_version": "1.2.0",
          "state": {
            "_model_module": "@jupyter-widgets/base",
            "_model_module_version": "1.2.0",
            "_model_name": "LayoutModel",
            "_view_count": null,
            "_view_module": "@jupyter-widgets/base",
            "_view_module_version": "1.2.0",
            "_view_name": "LayoutView",
            "align_content": null,
            "align_items": null,
            "align_self": null,
            "border": null,
            "bottom": null,
            "display": null,
            "flex": null,
            "flex_flow": null,
            "grid_area": null,
            "grid_auto_columns": null,
            "grid_auto_flow": null,
            "grid_auto_rows": null,
            "grid_column": null,
            "grid_gap": null,
            "grid_row": null,
            "grid_template_areas": null,
            "grid_template_columns": null,
            "grid_template_rows": null,
            "height": null,
            "justify_content": null,
            "justify_items": null,
            "left": null,
            "margin": null,
            "max_height": null,
            "max_width": null,
            "min_height": null,
            "min_width": null,
            "object_fit": null,
            "object_position": null,
            "order": null,
            "overflow": null,
            "overflow_x": null,
            "overflow_y": null,
            "padding": null,
            "right": null,
            "top": null,
            "visibility": null,
            "width": null
          }
        },
        "72ac6b90666c4a8db267939a96b0bdb1": {
          "model_module": "@jupyter-widgets/controls",
          "model_name": "DescriptionStyleModel",
          "model_module_version": "1.5.0",
          "state": {
            "_model_module": "@jupyter-widgets/controls",
            "_model_module_version": "1.5.0",
            "_model_name": "DescriptionStyleModel",
            "_view_count": null,
            "_view_module": "@jupyter-widgets/base",
            "_view_module_version": "1.2.0",
            "_view_name": "StyleView",
            "description_width": ""
          }
        },
        "c48440347e064d4f945292784756bded": {
          "model_module": "@jupyter-widgets/base",
          "model_name": "LayoutModel",
          "model_module_version": "1.2.0",
          "state": {
            "_model_module": "@jupyter-widgets/base",
            "_model_module_version": "1.2.0",
            "_model_name": "LayoutModel",
            "_view_count": null,
            "_view_module": "@jupyter-widgets/base",
            "_view_module_version": "1.2.0",
            "_view_name": "LayoutView",
            "align_content": null,
            "align_items": null,
            "align_self": null,
            "border": null,
            "bottom": null,
            "display": null,
            "flex": null,
            "flex_flow": null,
            "grid_area": null,
            "grid_auto_columns": null,
            "grid_auto_flow": null,
            "grid_auto_rows": null,
            "grid_column": null,
            "grid_gap": null,
            "grid_row": null,
            "grid_template_areas": null,
            "grid_template_columns": null,
            "grid_template_rows": null,
            "height": null,
            "justify_content": null,
            "justify_items": null,
            "left": null,
            "margin": null,
            "max_height": null,
            "max_width": null,
            "min_height": null,
            "min_width": null,
            "object_fit": null,
            "object_position": null,
            "order": null,
            "overflow": null,
            "overflow_x": null,
            "overflow_y": null,
            "padding": null,
            "right": null,
            "top": null,
            "visibility": null,
            "width": null
          }
        },
        "76529e6fe0534319bd7dd8a9c67f52e2": {
          "model_module": "@jupyter-widgets/controls",
          "model_name": "ProgressStyleModel",
          "model_module_version": "1.5.0",
          "state": {
            "_model_module": "@jupyter-widgets/controls",
            "_model_module_version": "1.5.0",
            "_model_name": "ProgressStyleModel",
            "_view_count": null,
            "_view_module": "@jupyter-widgets/base",
            "_view_module_version": "1.2.0",
            "_view_name": "StyleView",
            "bar_color": null,
            "description_width": ""
          }
        },
        "f02a366fce1443318fbf49493cf8ee82": {
          "model_module": "@jupyter-widgets/base",
          "model_name": "LayoutModel",
          "model_module_version": "1.2.0",
          "state": {
            "_model_module": "@jupyter-widgets/base",
            "_model_module_version": "1.2.0",
            "_model_name": "LayoutModel",
            "_view_count": null,
            "_view_module": "@jupyter-widgets/base",
            "_view_module_version": "1.2.0",
            "_view_name": "LayoutView",
            "align_content": null,
            "align_items": null,
            "align_self": null,
            "border": null,
            "bottom": null,
            "display": null,
            "flex": null,
            "flex_flow": null,
            "grid_area": null,
            "grid_auto_columns": null,
            "grid_auto_flow": null,
            "grid_auto_rows": null,
            "grid_column": null,
            "grid_gap": null,
            "grid_row": null,
            "grid_template_areas": null,
            "grid_template_columns": null,
            "grid_template_rows": null,
            "height": null,
            "justify_content": null,
            "justify_items": null,
            "left": null,
            "margin": null,
            "max_height": null,
            "max_width": null,
            "min_height": null,
            "min_width": null,
            "object_fit": null,
            "object_position": null,
            "order": null,
            "overflow": null,
            "overflow_x": null,
            "overflow_y": null,
            "padding": null,
            "right": null,
            "top": null,
            "visibility": null,
            "width": null
          }
        },
        "d9f793bdf5e7430db802ea4ff9321513": {
          "model_module": "@jupyter-widgets/controls",
          "model_name": "DescriptionStyleModel",
          "model_module_version": "1.5.0",
          "state": {
            "_model_module": "@jupyter-widgets/controls",
            "_model_module_version": "1.5.0",
            "_model_name": "DescriptionStyleModel",
            "_view_count": null,
            "_view_module": "@jupyter-widgets/base",
            "_view_module_version": "1.2.0",
            "_view_name": "StyleView",
            "description_width": ""
          }
        }
      }
    }
  },
  "nbformat": 4,
  "nbformat_minor": 0
}